{
  "nbformat": 4,
  "nbformat_minor": 0,
  "metadata": {
    "colab": {
      "provenance": [],
      "include_colab_link": true
    },
    "kernelspec": {
      "name": "python3",
      "display_name": "Python 3"
    },
    "language_info": {
      "name": "python"
    }
  },
  "cells": [
    {
      "cell_type": "markdown",
      "metadata": {
        "id": "view-in-github",
        "colab_type": "text"
      },
      "source": [
        "<a href=\"https://colab.research.google.com/github/JenniferNgu22/test/blob/main/Copy_of_Quiz_5.ipynb\" target=\"_parent\"><img src=\"https://colab.research.google.com/assets/colab-badge.svg\" alt=\"Open In Colab\"/></a>"
      ]
    },
    {
      "cell_type": "markdown",
      "source": [
        "# Libraries\n",
        "\n",
        "Here I import some of the relevant libraries for your convinience, but feel free to make changes or import additional libraries, as needed."
      ],
      "metadata": {
        "id": "6IleOjT7YBoG"
      }
    },
    {
      "cell_type": "code",
      "execution_count": null,
      "metadata": {
        "id": "BfZRhSjBX8rA"
      },
      "outputs": [],
      "source": [
        "# Import necessary libraries\n",
        "import pandas as pd\n",
        "import seaborn as sns\n",
        "import matplotlib.pyplot as plt\n",
        "import numpy as np\n",
        "\n",
        "import warnings\n",
        "warnings.filterwarnings('ignore')"
      ]
    },
    {
      "cell_type": "markdown",
      "source": [
        "Let's explore data first.\n",
        "\n",
        "Read more about this data set and all the variables [here](https://stat.ethz.ch/R-manual/R-devel/library/datasets/html/swiss.html)."
      ],
      "metadata": {
        "id": "QuPby3EDm_81"
      }
    },
    {
      "cell_type": "code",
      "source": [
        "# Load the Swiss dataset from the internet\n",
        "url = \"https://vincentarelbundock.github.io/Rdatasets/csv/datasets/swiss.csv\"\n",
        "swiss = pd.read_csv(url, index_col=0)\n",
        "\n",
        "# Generate scatter plots for all pairs of variables in the dataset\n",
        "sns.pairplot(swiss)\n",
        "plt.suptitle('Scatter Plot of All Variables in Swiss Dataset', y=1.02)\n",
        "plt.show()"
      ],
      "metadata": {
        "id": "QgUrAWTXnJip"
      },
      "execution_count": null,
      "outputs": []
    },
    {
      "cell_type": "code",
      "source": [
        "swiss"
      ],
      "metadata": {
        "id": "lGof3hZnoVIs"
      },
      "execution_count": null,
      "outputs": []
    },
    {
      "cell_type": "markdown",
      "source": [
        "**Question 1.** What is the closest province to Rive Droite in feature space using Euclidean distances?"
      ],
      "metadata": {
        "id": "IZb0sOKI3PlM"
      }
    },
    {
      "cell_type": "code",
      "source": [
        "from sklearn.metrics.pairwise import euclidean_distances"
      ],
      "metadata": {
        "id": "8nnG6bpqpgLe"
      },
      "execution_count": null,
      "outputs": []
    },
    {
      "cell_type": "code",
      "source": [
        "# Get the row corresponding to 'Rive Droite'\n",
        "rive_droite = swiss.loc[['Rive Droite']]\n",
        "\n",
        "# Compute the pairwise Euclidean distances\n",
        "distances = euclidean_distances(rive_droite, swiss)\n",
        "\n",
        "# Convert the result to a DataFrame for better readability\n",
        "distance_df = pd.DataFrame(distances, columns=swiss.index, index=['Rive Droite'])\n",
        "\n",
        "# YOUR ANSWER"
      ],
      "metadata": {
        "id": "Pby9e1h-oxhD"
      },
      "execution_count": null,
      "outputs": []
    },
    {
      "cell_type": "markdown",
      "source": [
        "# Homeowners"
      ],
      "metadata": {
        "id": "U6jBbTXDYI2_"
      }
    },
    {
      "cell_type": "code",
      "source": [
        "df = pd.read_csv('https://raw.githubusercontent.com/afarahi/Scientific-Machine-Learning/main/AHS_2019_Cleaned.CSV').drop('Unnamed: 0', axis=1)\n",
        "df.head()"
      ],
      "metadata": {
        "id": "7hfjvVMuYQ8v"
      },
      "execution_count": null,
      "outputs": []
    },
    {
      "cell_type": "markdown",
      "source": [
        "\n",
        "Given the following characteristics of a new household:\n",
        "\n",
        "- BLACK = 0\n",
        "- HHSEX = 1\n",
        "- METRO = 1\n",
        "- HHGRAD = 44\n",
        "- HHMAR = 2\n",
        "- HHCITSHP = 1\n",
        "- HHAGE = 30\n",
        "- NUMPEOPLE = 2\n",
        "- HINCP = 3.2\n",
        "- DIVISION = 2\n",
        "\n",
        "**Question 2.** Compute the Euclidean distance between this household and all the households in the provided dataset, select the top 4 closest households, and then determine what fraction of these closest households are homeowners.\n",
        "\n",
        "\n",
        "**Question 3.** What would be the answer if instead you select the top 50 closes households?"
      ],
      "metadata": {
        "id": "KFItJYwXzTLo"
      }
    },
    {
      "cell_type": "code",
      "source": [
        "# Load the dataset\n",
        "url = 'https://raw.githubusercontent.com/afarahi/Scientific-Machine-Learning/main/AHS_2019_Cleaned.CSV'\n",
        "df = pd.read_csv(url).drop('Unnamed: 0', axis=1)\n",
        "\n",
        "# Display the first few rows of the dataset\n",
        "df.head()\n",
        "\n",
        "# Create a new household with the given characteristics\n",
        "new_household = {\n",
        "    'BLACK': 0,\n",
        "    'HHSEX': 1,\n",
        "    'METRO': 1,\n",
        "    'HHGRAD': 44,\n",
        "    'HHMAR': 2,\n",
        "    'HHCITSHP': 1,\n",
        "    'HHAGE': 30,\n",
        "    'NUMPEOPLE': 2,\n",
        "    'HINCP': 3.2,\n",
        "    'DIVISION': 2\n",
        "}\n",
        "\n",
        "# Convert the new household to a DataFrame\n",
        "new_household_df = pd.DataFrame([new_household])\n",
        "\n",
        "# Extract the relevant columns from the dataset for distance computation\n",
        "columns = ['BLACK', 'HHSEX', 'METRO', 'HHGRAD', 'HHMAR', 'HHCITSHP', 'HHAGE', 'NUMPEOPLE', 'HINCP', 'DIVISION']\n",
        "\n",
        "# Compute the pairwise Euclidean distances\n",
        "distances = euclidean_distances(new_household_df[columns], df[columns])\n",
        "\n",
        "# Convert the result to a DataFrame for better readability\n",
        "distance_df = pd.DataFrame(distances, columns=df.index)\n",
        "\n",
        "# Find the top 50 closest households\n",
        "top_50_indices = distance_df.T.sort_values(by=0).head(50).index\n",
        "\n",
        "# Compute the fraction of these households that are homeowners\n",
        "# YOUR ANSWER"
      ],
      "metadata": {
        "id": "g2XmPs4ZzF9f"
      },
      "execution_count": null,
      "outputs": []
    },
    {
      "cell_type": "markdown",
      "source": [
        "**Question 4.** What would be the answer if you first rescale (z-scale) the data and then select the top 50 closest households (rounded to two decimal digits)?"
      ],
      "metadata": {
        "id": "I4DeY1-ioU-v"
      }
    },
    {
      "cell_type": "code",
      "source": [
        "from sklearn.preprocessing import StandardScaler\n",
        "\n",
        "# YOUR ANSWER\n"
      ],
      "metadata": {
        "id": "Mo7kweTFoTte"
      },
      "execution_count": null,
      "outputs": []
    },
    {
      "cell_type": "markdown",
      "source": [
        "**Question 5.** Develop three k-NN classifiers with the following specifications, using a train-test split of 70/30 percent:\n",
        "\n",
        "1. One classifier using Euclidean distance with \\( k=1 \\)\n",
        "2. One classifier using Euclidean distance with \\( k=50 \\)\n",
        "3. One classifier using Euclidean distance on scaled data with \\( k=50 \\)\n",
        "\n",
        "Compute the accuracy of each classifier and sort these classifiers based on their accuracy from highest to lowest."
      ],
      "metadata": {
        "id": "jFYfEkbYrTDj"
      }
    },
    {
      "cell_type": "code",
      "source": [
        "from sklearn.model_selection import train_test_split\n",
        "from sklearn.neighbors import KNeighborsClassifier\n",
        "from sklearn.metrics import accuracy_score"
      ],
      "metadata": {
        "id": "-C8qSwkNrTX1"
      },
      "execution_count": null,
      "outputs": []
    },
    {
      "cell_type": "code",
      "source": [
        "# Define the feature columns and target column\n",
        "features = ['BLACK', 'HHSEX', 'METRO', 'HHGRAD', 'HHMAR', 'HHCITSHP', 'HHAGE', 'NUMPEOPLE', 'HINCP', 'DIVISION']\n",
        "target = 'OWNER'\n",
        "\n",
        "# Split the data into training and testing sets (70/30 split)\n",
        "X_train, X_test, y_train, y_test = train_test_split(df[features], df[target], test_size=0.3, random_state=42)\n",
        "\n",
        "# Initialize the k-NN classifiers\n",
        "knn1 = KNeighborsClassifier(n_neighbors=1)\n",
        "knn50 = KNeighborsClassifier(n_neighbors=50)\n",
        "\n",
        "# Fit and predict using the k=1 classifier\n",
        "# YOUR ANSWER\n",
        "\n",
        "# Fit and predict using the k=50 classifier\n",
        "# YOUR ANSWER"
      ],
      "metadata": {
        "id": "c3GFeByJrVMg"
      },
      "execution_count": null,
      "outputs": []
    },
    {
      "cell_type": "markdown",
      "source": [
        "Using the $k=50$ classifier, change the age of the following household from 20 to 80 and plot how the prediction of homeownership likelihood changes with age."
      ],
      "metadata": {
        "id": "JPAN6TAEu4gM"
      }
    },
    {
      "cell_type": "code",
      "source": [
        "# Create a new household with the given characteristics\n",
        "new_household = {\n",
        "    'BLACK': 1,\n",
        "    'HHSEX': 1,\n",
        "    'METRO': 1,\n",
        "    'HHGRAD': 44,\n",
        "    'HHMAR': 3,\n",
        "    'HHCITSHP': 1,\n",
        "    'HHAGE': 50,\n",
        "    'NUMPEOPLE': 2,\n",
        "    'HINCP': 4.5,\n",
        "    'DIVISION': 2\n",
        "}\n",
        "\n",
        "# Generate ages from 20 to 80\n",
        "ages = list(range(20, 81))\n",
        "predictions = []\n",
        "\n",
        "# Loop through the ages and predict homeownership likelihood\n",
        "for age in ages:\n",
        "    new_household['HHAGE'] = age\n",
        "    new_household_df = pd.DataFrame([new_household])\n",
        "    prediction = knn50.predict_proba(new_household_df[features])[:, 1][0]\n",
        "    predictions.append(prediction)\n",
        "\n",
        "# Plot the results\n",
        "plt.plot(ages, predictions, marker='o')\n",
        "plt.xlabel('Age')\n",
        "plt.ylabel('Homeownership Likelihood')\n",
        "plt.title('Homeownership Likelihood vs. Age')\n",
        "plt.grid(True)\n",
        "plt.show()"
      ],
      "metadata": {
        "id": "crMW3ATFuG_b"
      },
      "execution_count": null,
      "outputs": []
    },
    {
      "cell_type": "markdown",
      "source": [
        "**Question 6.** Using the graph generated in the colab, at which one of the following ages is the likelihood of homeownership the highest?"
      ],
      "metadata": {
        "id": "mwuNqNkvzEqM"
      }
    },
    {
      "cell_type": "code",
      "source": [
        "from sklearn.svm import SVC"
      ],
      "metadata": {
        "id": "VieXffByxAzE"
      },
      "execution_count": null,
      "outputs": []
    },
    {
      "cell_type": "markdown",
      "source": [
        "\n",
        "\n",
        "**Question 7.** Using the provided dataset, develop three classifiers: a Linear SVM, a Kernel SVM (with RBF kernel), and a k-NN with $k=50$. Compute the accuracy of each classifier on the test set. Order these classifiers based on their accuracy from highest to lowest.\n",
        "\n"
      ],
      "metadata": {
        "id": "uWy79UqayY6z"
      }
    },
    {
      "cell_type": "code",
      "source": [
        "# Split the data into training and testing sets (70/30 split)\n",
        "X_train, X_test, y_train, y_test = train_test_split(df[features], df[target], test_size=0.90, random_state=42)\n",
        "\n",
        "# Initialize the classifiers\n",
        "knn50 = KNeighborsClassifier(n_neighbors=50)\n",
        "linear_svm = SVC(kernel='linear', random_state=42)\n",
        "kernel_svm = SVC(kernel='rbf', random_state=42)\n",
        "\n",
        "# Fit the classifiers\n",
        "knn50.fit(X_train, y_train)\n",
        "linear_svm.fit(X_train, y_train)\n",
        "kernel_svm.fit(X_train, y_train)\n",
        "\n",
        "# YOUR ANSWER"
      ],
      "metadata": {
        "id": "IgRA5e8XxCO_"
      },
      "execution_count": null,
      "outputs": []
    },
    {
      "cell_type": "markdown",
      "source": [
        "**Question 8.** Do you think the above ranking results are robust? You should be able to explain why or why not.\n",
        "\n",
        "**Question 9 and 10.** The following code computes the importance of each feature in a Linear SVM model. Which two features are the most important features? Can we trust these results for drawing causal conclusions on why a household might be a homeowner or not?\n"
      ],
      "metadata": {
        "id": "wrCXl9fy0x3A"
      }
    },
    {
      "cell_type": "code",
      "source": [
        "# Compute the feature importances\n",
        "feature_importances = np.abs(linear_svm.coef_[0])\n",
        "\n",
        "# Create a DataFrame for feature importances\n",
        "importance_df = pd.DataFrame({'Feature': features, 'Importance': feature_importances})\n",
        "\n",
        "# Sort the DataFrame by importance\n",
        "importance_df = importance_df.sort_values(by='Importance', ascending=False)\n",
        "\n",
        "# Display the feature importances\n",
        "print(importance_df)\n",
        "\n",
        "# Plot the feature importances\n",
        "plt.figure(figsize=(10, 6))\n",
        "plt.barh(importance_df['Feature'], importance_df['Importance'], color='skyblue')\n",
        "plt.xlabel('Importance')\n",
        "plt.ylabel('Feature')\n",
        "plt.title('Feature Importance in Linear SVM')\n",
        "plt.gca().invert_yaxis()\n",
        "plt.show()"
      ],
      "metadata": {
        "id": "hAQvyMT41EgP"
      },
      "execution_count": null,
      "outputs": []
    }
  ]
}